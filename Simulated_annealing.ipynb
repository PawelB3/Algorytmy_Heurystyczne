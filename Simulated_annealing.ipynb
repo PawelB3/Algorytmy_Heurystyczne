{
 "cells": [
  {
   "cell_type": "markdown",
   "metadata": {
    "collapsed": true,
    "pycharm": {
     "name": "#%% md\n"
    }
   },
   "source": [
    "Algorytm Symulowanego Wyżarzania SA\n",
    "Paweł Brodziak\n",
    "Magdalena Leśniak\n",
    "Marceli Ptak"
   ],
   "outputs": [
    {
     "ename": "SyntaxError",
     "evalue": "invalid syntax (1276848131.py, line 1)",
     "output_type": "error",
     "traceback": [
      "\u001B[1;36m  Cell \u001B[1;32mIn[1], line 1\u001B[1;36m\u001B[0m\n\u001B[1;33m    Algorytm Symulowanego Wyżarzania SA\u001B[0m\n\u001B[1;37m             ^\u001B[0m\n\u001B[1;31mSyntaxError\u001B[0m\u001B[1;31m:\u001B[0m invalid syntax\n"
     ]
    }
   ],
   "execution_count": 1
  },
  {
   "cell_type": "code",
   "execution_count": 30,
   "outputs": [],
   "source": [
    "import sys\n",
    "import pandas as pd\n",
    "import numpy as np\n",
    "import matplotlib.pyplot as plt\n",
    "import plotly.express as px\n",
    "import random\n",
    "import mpmath\n",
    "import math\n",
    "import time\n",
    "import warnings\n",
    "from enum import Enum\n",
    "warnings.simplefilter(action='ignore', category=FutureWarning)"
   ],
   "metadata": {
    "collapsed": false,
    "pycharm": {
     "name": "#%%\n"
    }
   }
  },
  {
   "cell_type": "code",
   "execution_count": 2,
   "outputs": [],
   "source": [
    "TSP_29 = pd.read_excel('TSP_29.xlsx')\n",
    "TSP_29.name = 'TSP_29'\n",
    "TSP_76 = pd.read_excel('TSP_76.xlsx')\n",
    "TSP_76.name = 'TSP_76'\n",
    "TSP_127 = pd.read_excel('TSP_127.xlsx')\n",
    "TSP_127.name = 'TSP_127'\n",
    "for df in [TSP_29, TSP_76, TSP_127]:\n",
    "    df.index = np.arange(1, len(df) + 1)"
   ],
   "metadata": {
    "collapsed": false,
    "pycharm": {
     "name": "#%%\n"
    }
   }
  },
  {
   "cell_type": "code",
   "execution_count": 36,
   "outputs": [],
   "source": [
    "class KryteriumStopu(Enum):\n",
    "    iteracje = 'maksymalna liczba iteracji'\n",
    "    max_bez_poprawy = 'maksymalna liczba iteracji bez poprawy'\n",
    "\n",
    "class RedukcjaTemperatury(Enum):\n",
    "    szybka = 'szybkie wyżarzanie - temp = temp0/(iteracje+1)'\n",
    "    stopniowa = 'stopniowa redukcja temperatury - temp = temp0 * (1 - iteracje/max_iteracje) - tylko z kryterium stopu max iteracje'\n",
    "    logarytmicza = 'logarytmiczna redukcja temperatur temp = temp0 * log(iteracje+1)'\n",
    "\n",
    "##Oblicz odleglości między miastami i całkowitą odległość dla zadanej kolejności\n",
    "def zmierz_odleglosci(miasta,df):\n",
    "    odleglosci = []\n",
    "    for i in range(len(miasta)-1):\n",
    "        x = df[miasta[i]].iloc[miasta[i+1]-1]\n",
    "        odleglosci.append(x)\n",
    "        i+=1\n",
    "    odleglosci.append(df[miasta[len(df)-1]].iloc[miasta[0]-1])\n",
    "    suma_odleglosci = sum(odleglosci)\n",
    "    return odleglosci, suma_odleglosci\n",
    "\n",
    "## Losowo zamienia kolejność 2 miast z listy kolejności\n",
    "def znajdz_sasiedztwo(miasta, suma_odleglosci, df):\n",
    "    ob_odleglosc = sys.maxsize\n",
    "    nowe_miasta = []\n",
    "    for i in range(len(miasta)):\n",
    "        for j in range(i+1,len(miasta)):\n",
    "            if i == j :\n",
    "                continue\n",
    "            temp = np.copy(miasta)\n",
    "            temp[i], temp[j] = temp[j], temp[i].copy()\n",
    "            temp_odleglosci, temp_odleglosc = zmierz_odleglosci(temp,df)\n",
    "            if temp_odleglosc < ob_odleglosc:\n",
    "                nowe_miasta = temp\n",
    "                ob_odleglosc = temp_odleglosc\n",
    "    return nowe_miasta\n",
    "\n",
    "def wyzarzanie(df, kryterium_stopu:KryteriumStopu, redukcja:RedukcjaTemperatury, temperatura_poczatkowa=100, max_iteracje=10000, max_iteracje_bez_poprawy=1000):\n",
    "    miasta = [i for i in range(1,len(df)+1)]\n",
    "    random.shuffle(miasta) ##losowa kolejność miast - wartość początkowa\n",
    "\n",
    "    odleglosci, suma_odleglosci = zmierz_odleglosci(miasta,df)\n",
    "\n",
    "    miasta_poczatkowe = miasta\n",
    "    wartosc_poczatkowa = suma_odleglosci\n",
    "\n",
    "    iteracje_bez_poprawy = 0\n",
    "    iteracje_z_poprawa = 0\n",
    "    temperatura = temperatura_poczatkowa\n",
    "    historia_odleglosci = []\n",
    "    iteracje = 0\n",
    "    climb = True\n",
    "\n",
    "    while climb:\n",
    "        if redukcja == RedukcjaTemperatury.szybka:\n",
    "            temperatura = temperatura_poczatkowa/float(iteracje+1)\n",
    "        if redukcja == RedukcjaTemperatury.stopniowa:\n",
    "            temperatura = temperatura_poczatkowa * (1-(iteracje/max_iteracje))\n",
    "        if redukcja == RedukcjaTemperatury.logarytmicza:\n",
    "            temperatura =  math.log(temperatura_poczatkowa,iteracje+2)\n",
    "\n",
    "        miasta_alt = znajdz_sasiedztwo(miasta,suma_odleglosci,df)\n",
    "        odleglosci_alt, suma_odleglosci_alt = zmierz_odleglosci(miasta_alt,df)\n",
    "        roznica = suma_odleglosci_alt - suma_odleglosci\n",
    "        funkcja_metropolis = math.exp(-roznica/temperatura)\n",
    "        #print(f'nowe odleglosc: {suma_odleglosci_alt}, różnica: {roznica}, metropolis: {funkcja_metropolis}')\n",
    "        if roznica < 0 or funkcja_metropolis > random.random():\n",
    "            miasta = miasta_alt\n",
    "            odleglosci = odleglosci_alt\n",
    "            suma_odleglosci = suma_odleglosci_alt\n",
    "            iteracje_bez_poprawy = 0\n",
    "            iteracje_z_poprawa += 1\n",
    "            historia_odleglosci.append(suma_odleglosci)\n",
    "        else:\n",
    "            iteracje_bez_poprawy +=1\n",
    "            pass\n",
    "\n",
    "        iteracje += 1\n",
    "\n",
    "        if kryterium_stopu == KryteriumStopu.iteracje and iteracje == max_iteracje:\n",
    "            climb = False\n",
    "        if kryterium_stopu == KryteriumStopu.max_bez_poprawy and iteracje_bez_poprawy >= max_iteracje_bez_poprawy:\n",
    "            climb = False\n",
    "\n",
    "    return miasta, odleglosci, suma_odleglosci, iteracje, iteracje_z_poprawa, temperatura, miasta_poczatkowe, wartosc_poczatkowa, historia_odleglosci\n",
    "\n",
    "def wyzarzanie_podsumowanie(df, kryterium_stopu:KryteriumStopu = KryteriumStopu.iteracje, redukcja:RedukcjaTemperatury = RedukcjaTemperatury.stopniowa, temperatura_poczatkowa=100, max_iteracje=10000, max_iteracje_bez_poprawy=1000):\n",
    "    start_time = time.time()\n",
    "    miasta, odleglosci, suma_odleglosci, iteracje, iteracje_poprawne, temperatura, miasta_poczatkowe, wartosc_poczatkowa, historia_odleglosci = wyzarzanie(df, kryterium_stopu, redukcja, temperatura_poczatkowa, max_iteracje,max_iteracje_bez_poprawy)\n",
    "    end_time = time.time()\n",
    "    execution_time = end_time - start_time\n",
    "    print(f'''\n",
    "    Kryterium stopu: {kryterium_stopu.value}\n",
    "    liczba iteracji: {iteracje}\n",
    "    liczba iteracji z poprawą: {iteracje_poprawne}\n",
    "    Czas obliczeń: {execution_time:.2f} sekund\n",
    "    wynik - suma odległości: {suma_odleglosci}\n",
    "    kolejność miast: {miasta}\n",
    "    Funkcja redukcji temperatury: {redukcja.value}\n",
    "    temperatura początkowa: {temperatura_poczatkowa}\n",
    "    temperatura końcowa {temperatura}\n",
    "    Wylosowane miasta początkowe: {miasta_poczatkowe}\n",
    "    Dały wartość początkową (pierwsza suma odległości): {wartosc_poczatkowa}\n",
    "    W sprawdzanych możliwościach najniższym osiągniętym wynikiem był: {min(historia_odleglosci)}\n",
    "    ''')"
   ],
   "metadata": {
    "collapsed": false,
    "pycharm": {
     "name": "#%%\n"
    }
   }
  },
  {
   "cell_type": "code",
   "execution_count": 38,
   "outputs": [
    {
     "name": "stdout",
     "output_type": "stream",
     "text": [
      "\n",
      "    Kryterium stopu: maksymalna liczba iteracji bez poprawy\n",
      "    liczba iteracji: 4747\n",
      "    liczba iteracji z poprawą: 3649\n",
      "    Czas obliczeń: 320.44 sekund\n",
      "    wynik - suma odległości: 2303\n",
      "    kolejność miast: [25 11 22 14 17 18 13 21  1 28  8 27 24 16 19 15  4 10 20  2  3 29 26  5\n",
      "  9 12  6 23  7]\n",
      "    Funkcja redukcji temperatury: szybkie wyżarzanie - temp = temp0/(iteracje+1)\n",
      "    temperatura początkowa: 10000\n",
      "    temperatura końcowa 2.106593638087213\n",
      "    Wylosowane miasta początkowe: [3, 18, 23, 11, 16, 8, 14, 17, 6, 1, 4, 5, 27, 15, 29, 2, 28, 22, 19, 20, 24, 9, 25, 10, 21, 12, 26, 13, 7]\n",
      "    Dały wartość początkową (pierwsza suma odległości): 6175\n",
      "    W sprawdzanych możliwościach najniższym osiągniętym wynikiem był: 2303\n",
      "    \n"
     ]
    }
   ],
   "source": [
    "wyzarzanie_podsumowanie(\n",
    "    TSP_29,\n",
    "    kryterium_stopu=KryteriumStopu.max_bez_poprawy,\n",
    "    redukcja=RedukcjaTemperatury.szybka,\n",
    "    temperatura_poczatkowa=10000,\n",
    "    max_iteracje_bez_poprawy=10\n",
    ")"
   ],
   "metadata": {
    "collapsed": false,
    "pycharm": {
     "name": "#%%\n"
    }
   }
  },
  {
   "cell_type": "code",
   "execution_count": 41,
   "outputs": [
    {
     "name": "stdout",
     "output_type": "stream",
     "text": [
      "\n",
      "    Kryterium stopu: maksymalna liczba iteracji\n",
      "    liczba iteracji: 5000\n",
      "    liczba iteracji z poprawą: 2544\n",
      "    Czas obliczeń: 704.91 sekund\n",
      "    wynik - suma odległości: 2774\n",
      "    kolejność miast: [25 19 13 21  2 20 10  4 16 24 27 23  8  1 26  3 29 18 17 14 22 11 15  5\n",
      "  9 12  6 28  7]\n",
      "    Funkcja redukcji temperatury: logarytmiczna redukcja temperatur temp = temp0 * log(iteracje+1)\n",
      "    temperatura początkowa: 1000\n",
      "    temperatura końcowa 0.8110175425694691\n",
      "    Wylosowane miasta początkowe: [25, 19, 10, 23, 12, 8, 4, 20, 15, 18, 21, 27, 13, 1, 2, 22, 29, 17, 6, 14, 24, 11, 16, 9, 3, 26, 5, 28, 7]\n",
      "    Dały wartość początkową (pierwsza suma odległości): 5473\n",
      "    W sprawdzanych możliwościach najniższym osiągniętym wynikiem był: 2774\n",
      "    \n"
     ]
    }
   ],
   "source": [
    "wyzarzanie_podsumowanie(\n",
    "    TSP_29,\n",
    "    kryterium_stopu=KryteriumStopu.iteracje,\n",
    "    redukcja=RedukcjaTemperatury.logarytmicza,\n",
    "    temperatura_poczatkowa=1000,\n",
    "    max_iteracje=5000\n",
    ")"
   ],
   "metadata": {
    "collapsed": false,
    "pycharm": {
     "name": "#%%\n"
    }
   }
  },
  {
   "cell_type": "code",
   "execution_count": 42,
   "outputs": [
    {
     "name": "stdout",
     "output_type": "stream",
     "text": [
      "\n",
      "    Kryterium stopu: maksymalna liczba iteracji\n",
      "    liczba iteracji: 2000\n",
      "    liczba iteracji z poprawą: 2000\n",
      "    Czas obliczeń: 18620.30 sekund\n",
      "    wynik - suma odległości: 186636.6898663332\n",
      "    kolejność miast: [ 53 118  48  54  35  37  36  40  44 103  45  94  46 112 111 107   2   1\n",
      "  72  73  69 119  63 102 101  83 117  78   9  11  61  91 125  89  92 104\n",
      "  85  86  88  87 110  71  20  14  43  34  39  42  28 122  29  32  76 109\n",
      "  96  82 126  81  84  75  70  68  74  77  18  21  19   4 108 106   7 121\n",
      "   5  50  24  23   8  67  59  99  65 113  62  60 116  90   3  10 120 114\n",
      "   6  22  17  79  80  16 124  55  66  64  58 100  93 127  98  97 123  95\n",
      "  57  56  52 115  13 105  15  12  31  27  26  25  33  38  30  41  51  47\n",
      "  49]\n",
      "    Funkcja redukcji temperatury: stopniowa redukcja temperatury - temp = temp0 * (1 - iteracje/max_iteracje) - tylko z kryterium stopu max iteracje\n",
      "    temperatura początkowa: 2000\n",
      "    temperatura końcowa 0.9999999999998899\n",
      "    Wylosowane miasta początkowe: [47, 126, 48, 80, 32, 99, 46, 54, 103, 2, 108, 97, 45, 91, 83, 90, 95, 87, 9, 120, 61, 119, 96, 101, 13, 94, 75, 105, 107, 38, 51, 59, 86, 89, 39, 23, 63, 37, 88, 36, 112, 8, 26, 121, 34, 1, 69, 64, 93, 123, 125, 40, 79, 85, 6, 84, 118, 14, 19, 71, 111, 18, 67, 122, 76, 104, 12, 31, 73, 15, 116, 102, 49, 65, 74, 81, 24, 17, 42, 92, 52, 30, 109, 27, 66, 62, 3, 7, 53, 115, 117, 4, 68, 78, 25, 22, 60, 55, 50, 28, 21, 113, 70, 127, 57, 33, 77, 124, 56, 35, 5, 29, 100, 11, 106, 20, 72, 58, 44, 10, 98, 82, 16, 41, 110, 114, 43]\n",
      "    Dały wartość początkową (pierwsza suma odległości): 642642.2768460562\n",
      "    W sprawdzanych możliwościach najniższym osiągniętym wynikiem był: 186636.6898663332\n",
      "    \n"
     ]
    }
   ],
   "source": [
    "wyzarzanie_podsumowanie(\n",
    "    TSP_127,\n",
    "    kryterium_stopu=KryteriumStopu.iteracje,\n",
    "    redukcja=RedukcjaTemperatury.stopniowa,\n",
    "    temperatura_poczatkowa=2000,\n",
    "    max_iteracje=2000\n",
    ")"
   ],
   "metadata": {
    "collapsed": false,
    "pycharm": {
     "name": "#%%\n"
    }
   }
  },
  {
   "cell_type": "code",
   "execution_count": 43,
   "outputs": [
    {
     "name": "stdout",
     "output_type": "stream",
     "text": [
      "\n",
      "    Kryterium stopu: maksymalna liczba iteracji bez poprawy\n",
      "    liczba iteracji: 2588\n",
      "    liczba iteracji z poprawą: 1588\n",
      "    Czas obliczeń: 5343.81 sekund\n",
      "    wynik - suma odległości: 178462.82859203394\n",
      "    kolejność miast: [76 75  1 53 52 51 66 65 64 63 60 41 38 18 17 16 15 13 12  9 10  5  4  3\n",
      "  6  7  8  2 22 24 45 48 44 25 21 59 61 57 56 55 42 43 28 29 30 32 33 54\n",
      " 49 50 58 40 34 31 19 20 26 27 35 36 37 11 14 74 39 62 73 72 71 70 67 68\n",
      " 69 47 46 23]\n",
      "    Funkcja redukcji temperatury: szybkie wyżarzanie - temp = temp0/(iteracje+1)\n",
      "    temperatura początkowa: 10000\n",
      "    temperatura końcowa 3.8639876352395675\n",
      "    Wylosowane miasta początkowe: [76, 4, 70, 53, 52, 47, 72, 7, 67, 42, 36, 40, 14, 29, 17, 49, 18, 8, 66, 12, 35, 28, 6, 46, 19, 9, 11, 1, 25, 69, 48, 2, 24, 38, 22, 30, 73, 57, 56, 15, 54, 64, 13, 10, 27, 63, 33, 44, 55, 50, 58, 75, 16, 20, 3, 59, 26, 23, 34, 21, 62, 37, 39, 74, 5, 43, 41, 65, 32, 71, 60, 68, 45, 51, 31, 61]\n",
      "    Dały wartość początkową (pierwsza suma odległości): 561999.5818580932\n",
      "    W sprawdzanych możliwościach najniższym osiągniętym wynikiem był: 178462.82859203394\n",
      "    \n"
     ]
    }
   ],
   "source": [
    "wyzarzanie_podsumowanie(\n",
    "    TSP_76,\n",
    "    kryterium_stopu=KryteriumStopu.max_bez_poprawy,\n",
    "    redukcja=RedukcjaTemperatury.szybka,\n",
    "    temperatura_poczatkowa=10000,\n",
    "    max_iteracje_bez_poprawy=20\n",
    ")"
   ],
   "metadata": {
    "collapsed": false,
    "pycharm": {
     "name": "#%%\n"
    }
   }
  },
  {
   "cell_type": "code",
   "execution_count": 44,
   "outputs": [
    {
     "ename": "KeyboardInterrupt",
     "evalue": "",
     "output_type": "error",
     "traceback": [
      "\u001B[1;31m---------------------------------------------------------------------------\u001B[0m",
      "\u001B[1;31mKeyboardInterrupt\u001B[0m                         Traceback (most recent call last)",
      "Cell \u001B[1;32mIn[44], line 1\u001B[0m\n\u001B[1;32m----> 1\u001B[0m \u001B[43mwyzarzanie_podsumowanie\u001B[49m\u001B[43m(\u001B[49m\n\u001B[0;32m      2\u001B[0m \u001B[43m    \u001B[49m\u001B[43mTSP_76\u001B[49m\u001B[43m,\u001B[49m\n\u001B[0;32m      3\u001B[0m \u001B[43m    \u001B[49m\u001B[43mkryterium_stopu\u001B[49m\u001B[38;5;241;43m=\u001B[39;49m\u001B[43mKryteriumStopu\u001B[49m\u001B[38;5;241;43m.\u001B[39;49m\u001B[43miteracje\u001B[49m\u001B[43m,\u001B[49m\n\u001B[0;32m      4\u001B[0m \u001B[43m    \u001B[49m\u001B[43mredukcja\u001B[49m\u001B[38;5;241;43m=\u001B[39;49m\u001B[43mRedukcjaTemperatury\u001B[49m\u001B[38;5;241;43m.\u001B[39;49m\u001B[43mstopniowa\u001B[49m\u001B[43m,\u001B[49m\n\u001B[0;32m      5\u001B[0m \u001B[43m    \u001B[49m\u001B[43mtemperatura_poczatkowa\u001B[49m\u001B[38;5;241;43m=\u001B[39;49m\u001B[38;5;241;43m2000\u001B[39;49m\u001B[43m,\u001B[49m\n\u001B[0;32m      6\u001B[0m \u001B[43m    \u001B[49m\u001B[43mmax_iteracje\u001B[49m\u001B[38;5;241;43m=\u001B[39;49m\u001B[38;5;241;43m4000\u001B[39;49m\n\u001B[0;32m      7\u001B[0m \u001B[43m)\u001B[49m\n",
      "Cell \u001B[1;32mIn[36], line 88\u001B[0m, in \u001B[0;36mwyzarzanie_podsumowanie\u001B[1;34m(df, kryterium_stopu, redukcja, temperatura_poczatkowa, max_iteracje, max_iteracje_bez_poprawy)\u001B[0m\n\u001B[0;32m     86\u001B[0m \u001B[38;5;28;01mdef\u001B[39;00m \u001B[38;5;21mwyzarzanie_podsumowanie\u001B[39m(df, kryterium_stopu:KryteriumStopu \u001B[38;5;241m=\u001B[39m KryteriumStopu\u001B[38;5;241m.\u001B[39miteracje, redukcja:RedukcjaTemperatury \u001B[38;5;241m=\u001B[39m RedukcjaTemperatury\u001B[38;5;241m.\u001B[39mstopniowa, temperatura_poczatkowa\u001B[38;5;241m=\u001B[39m\u001B[38;5;241m100\u001B[39m, max_iteracje\u001B[38;5;241m=\u001B[39m\u001B[38;5;241m10000\u001B[39m, max_iteracje_bez_poprawy\u001B[38;5;241m=\u001B[39m\u001B[38;5;241m1000\u001B[39m):\n\u001B[0;32m     87\u001B[0m     start_time \u001B[38;5;241m=\u001B[39m time\u001B[38;5;241m.\u001B[39mtime()\n\u001B[1;32m---> 88\u001B[0m     miasta, odleglosci, suma_odleglosci, iteracje, iteracje_poprawne, temperatura, miasta_poczatkowe, wartosc_poczatkowa, historia_odleglosci \u001B[38;5;241m=\u001B[39m \u001B[43mwyzarzanie\u001B[49m\u001B[43m(\u001B[49m\u001B[43mdf\u001B[49m\u001B[43m,\u001B[49m\u001B[43m \u001B[49m\u001B[43mkryterium_stopu\u001B[49m\u001B[43m,\u001B[49m\u001B[43m \u001B[49m\u001B[43mredukcja\u001B[49m\u001B[43m,\u001B[49m\u001B[43m \u001B[49m\u001B[43mtemperatura_poczatkowa\u001B[49m\u001B[43m,\u001B[49m\u001B[43m \u001B[49m\u001B[43mmax_iteracje\u001B[49m\u001B[43m,\u001B[49m\u001B[43mmax_iteracje_bez_poprawy\u001B[49m\u001B[43m)\u001B[49m\n\u001B[0;32m     89\u001B[0m     end_time \u001B[38;5;241m=\u001B[39m time\u001B[38;5;241m.\u001B[39mtime()\n\u001B[0;32m     90\u001B[0m     execution_time \u001B[38;5;241m=\u001B[39m end_time \u001B[38;5;241m-\u001B[39m start_time\n",
      "Cell \u001B[1;32mIn[36], line 61\u001B[0m, in \u001B[0;36mwyzarzanie\u001B[1;34m(df, kryterium_stopu, redukcja, temperatura_poczatkowa, max_iteracje, max_iteracje_bez_poprawy)\u001B[0m\n\u001B[0;32m     58\u001B[0m \u001B[38;5;28;01mif\u001B[39;00m redukcja \u001B[38;5;241m==\u001B[39m RedukcjaTemperatury\u001B[38;5;241m.\u001B[39mlogarytmicza:\n\u001B[0;32m     59\u001B[0m     temperatura \u001B[38;5;241m=\u001B[39m  math\u001B[38;5;241m.\u001B[39mlog(temperatura_poczatkowa,iteracje\u001B[38;5;241m+\u001B[39m\u001B[38;5;241m2\u001B[39m)\n\u001B[1;32m---> 61\u001B[0m miasta_alt \u001B[38;5;241m=\u001B[39m \u001B[43mznajdz_sasiedztwo\u001B[49m\u001B[43m(\u001B[49m\u001B[43mmiasta\u001B[49m\u001B[43m,\u001B[49m\u001B[43msuma_odleglosci\u001B[49m\u001B[43m,\u001B[49m\u001B[43mdf\u001B[49m\u001B[43m)\u001B[49m\n\u001B[0;32m     62\u001B[0m odleglosci_alt, suma_odleglosci_alt \u001B[38;5;241m=\u001B[39m zmierz_odleglosci(miasta_alt,df)\n\u001B[0;32m     63\u001B[0m roznica \u001B[38;5;241m=\u001B[39m suma_odleglosci_alt \u001B[38;5;241m-\u001B[39m suma_odleglosci\n",
      "Cell \u001B[1;32mIn[36], line 29\u001B[0m, in \u001B[0;36mznajdz_sasiedztwo\u001B[1;34m(miasta, suma_odleglosci, df)\u001B[0m\n\u001B[0;32m     27\u001B[0m \u001B[38;5;28;01mif\u001B[39;00m i \u001B[38;5;241m==\u001B[39m j :\n\u001B[0;32m     28\u001B[0m     \u001B[38;5;28;01mcontinue\u001B[39;00m\n\u001B[1;32m---> 29\u001B[0m temp \u001B[38;5;241m=\u001B[39m \u001B[43mnp\u001B[49m\u001B[38;5;241;43m.\u001B[39;49m\u001B[43mcopy\u001B[49m\u001B[43m(\u001B[49m\u001B[43mmiasta\u001B[49m\u001B[43m)\u001B[49m\n\u001B[0;32m     30\u001B[0m temp[i], temp[j] \u001B[38;5;241m=\u001B[39m temp[j], temp[i]\u001B[38;5;241m.\u001B[39mcopy()\n\u001B[0;32m     31\u001B[0m temp_odleglosci, temp_odleglosc \u001B[38;5;241m=\u001B[39m zmierz_odleglosci(temp,df)\n",
      "File \u001B[1;32m<__array_function__ internals>:200\u001B[0m, in \u001B[0;36mcopy\u001B[1;34m(*args, **kwargs)\u001B[0m\n",
      "File \u001B[1;32mc:\\users\\pawki\\pycharmprojects\\inteligencjaobliczeniowa\\venv\\lib\\site-packages\\numpy\\lib\\function_base.py:960\u001B[0m, in \u001B[0;36mcopy\u001B[1;34m(a, order, subok)\u001B[0m\n\u001B[0;32m    871\u001B[0m \u001B[38;5;129m@array_function_dispatch\u001B[39m(_copy_dispatcher)\n\u001B[0;32m    872\u001B[0m \u001B[38;5;28;01mdef\u001B[39;00m \u001B[38;5;21mcopy\u001B[39m(a, order\u001B[38;5;241m=\u001B[39m\u001B[38;5;124m'\u001B[39m\u001B[38;5;124mK\u001B[39m\u001B[38;5;124m'\u001B[39m, subok\u001B[38;5;241m=\u001B[39m\u001B[38;5;28;01mFalse\u001B[39;00m):\n\u001B[0;32m    873\u001B[0m \u001B[38;5;250m    \u001B[39m\u001B[38;5;124;03m\"\"\"\u001B[39;00m\n\u001B[0;32m    874\u001B[0m \u001B[38;5;124;03m    Return an array copy of the given object.\u001B[39;00m\n\u001B[0;32m    875\u001B[0m \n\u001B[1;32m   (...)\u001B[0m\n\u001B[0;32m    958\u001B[0m \n\u001B[0;32m    959\u001B[0m \u001B[38;5;124;03m    \"\"\"\u001B[39;00m\n\u001B[1;32m--> 960\u001B[0m     \u001B[38;5;28;01mreturn\u001B[39;00m \u001B[43marray\u001B[49m\u001B[43m(\u001B[49m\u001B[43ma\u001B[49m\u001B[43m,\u001B[49m\u001B[43m \u001B[49m\u001B[43morder\u001B[49m\u001B[38;5;241;43m=\u001B[39;49m\u001B[43morder\u001B[49m\u001B[43m,\u001B[49m\u001B[43m \u001B[49m\u001B[43msubok\u001B[49m\u001B[38;5;241;43m=\u001B[39;49m\u001B[43msubok\u001B[49m\u001B[43m,\u001B[49m\u001B[43m \u001B[49m\u001B[43mcopy\u001B[49m\u001B[38;5;241;43m=\u001B[39;49m\u001B[38;5;28;43;01mTrue\u001B[39;49;00m\u001B[43m)\u001B[49m\n",
      "\u001B[1;31mKeyboardInterrupt\u001B[0m: "
     ]
    }
   ],
   "source": [
    "wyzarzanie_podsumowanie(\n",
    "    TSP_76,\n",
    "    kryterium_stopu=KryteriumStopu.iteracje,\n",
    "    redukcja=RedukcjaTemperatury.stopniowa,\n",
    "    temperatura_poczatkowa=2000,\n",
    "    max_iteracje=4000\n",
    ")"
   ],
   "metadata": {
    "collapsed": false,
    "pycharm": {
     "name": "#%%\n"
    }
   }
  }
 ],
 "metadata": {
  "kernelspec": {
   "display_name": "Python 3",
   "language": "python",
   "name": "python3"
  },
  "language_info": {
   "codemirror_mode": {
    "name": "ipython",
    "version": 2
   },
   "file_extension": ".py",
   "mimetype": "text/x-python",
   "name": "python",
   "nbconvert_exporter": "python",
   "pygments_lexer": "ipython2",
   "version": "2.7.6"
  }
 },
 "nbformat": 4,
 "nbformat_minor": 0
}