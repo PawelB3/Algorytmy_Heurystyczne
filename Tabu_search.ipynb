{
 "cells": [
  {
   "cell_type": "markdown",
   "id": "2a956753",
   "metadata": {},
   "source": [
    "Algorytm przeszukiwania Tabu Paweł Brodziak Magdalena Leśniak Marceli Ptak"
   ]
  },
  {
   "cell_type": "code",
   "execution_count": 1,
   "id": "cfb0cf7b",
   "metadata": {},
   "outputs": [],
   "source": [
    "import random\n",
    "import math\n",
    "import sys\n",
    "import pandas as pd\n",
    "import numpy as np\n",
    "import matplotlib.pyplot as plt"
   ]
  },
  {
   "cell_type": "code",
   "execution_count": 2,
   "id": "068d4c75",
   "metadata": {},
   "outputs": [],
   "source": [
    "def generuj_rozwiazanie(miasta):\n",
    "    return np.random.permutation(miasta)"
   ]
  },
  {
   "cell_type": "code",
   "execution_count": 3,
   "id": "d386f4d0",
   "metadata": {},
   "outputs": [],
   "source": [
    "def oblicz_calkowita_odleglosc(rozwiazanie):\n",
    "    calkowita_odleglosc = 0\n",
    "    for i in range(len(rozwiazanie)-1):\n",
    "        calkowita_odleglosc +=instancja[rozwiazanie[i]][rozwiazanie[i+1]]\n",
    "    return calkowita_odleglosc"
   ]
  },
  {
   "cell_type": "code",
   "execution_count": 4,
   "id": "89487e1d",
   "metadata": {},
   "outputs": [],
   "source": [
    "def znajdz_sasiada(ob_rozwiazanie, ob_odleglosc):\n",
    "    nowy_rekord_tabu = []\n",
    "    nowa_odleglosc = int(sys.maxsize)\n",
    "    nowe_rozwiazanie = None\n",
    "    \n",
    "    for i in range(len(rozwiazanie)):\n",
    "        for j in range(i+1,len(rozwiazanie)):\n",
    "            if i == j :\n",
    "                continue;\n",
    "            temp = np.copy(rozwiazanie)\n",
    "            temp[i], temp[j] = temp[j], temp[i].copy()\n",
    "            temp_odleglosc = oblicz_calkowita_odleglosc(temp)\n",
    "                \n",
    "            if temp_odleglosc < nowa_odleglosc:\n",
    "                    if lista_tabu[i][j] > 0 and temp_odleglosc > ob_odleglosc:\n",
    "                        continue\n",
    "                    nowy_rekord_tabu = [i,j]\n",
    "                    nowa_odleglosc = temp_odleglosc\n",
    "                    nowe_rozwiazanie = temp\n",
    "                    \n",
    "    return nowe_rozwiazanie, nowa_odleglosc, nowy_rekord_tabu\n",
    "                \n",
    "                "
   ]
  },
  {
   "cell_type": "code",
   "execution_count": 5,
   "id": "54fd5030",
   "metadata": {},
   "outputs": [],
   "source": [
    "instancja = pd.read_excel('TSP_127.xlsx')\n",
    "instancja.drop(columns=instancja.columns[0], axis=1, inplace=True)\n",
    "instancja = instancja.to_numpy()\n",
    "\n",
    "rozwiazanie = generuj_rozwiazanie(len(instancja))\n",
    "miasta = instancja.shape[0]\n",
    "lista_tabu = np.zeros_like(instancja)\n",
    "odleglosc = oblicz_calkowita_odleglosc(rozwiazanie)\n",
    "\n",
    "czas_przebywania_na_liscie_tabu = 3\n",
    "ilosc_rekordow_tabu = 50\n",
    "iteracje_algorytmu = 6000"
   ]
  },
  {
   "cell_type": "code",
   "execution_count": 6,
   "id": "849b4fdf",
   "metadata": {
    "scrolled": false
   },
   "outputs": [
    {
     "name": "stdout",
     "output_type": "stream",
     "text": [
      "Wygenerowane rozwiązanie:  [106 110  70  28  78  74  17  79  45 120  91  16  67  36  20   1 103 113\n",
      " 107   2  63  11  49 101   9 116  25  12 123  60  43  81 122  76  19  13\n",
      "  15  72 111 126  27 117  64  23  34  33  55 104  59 121  84 118  50  80\n",
      "  71  90  85 100  14 105  83  96  39   7   8  46  52  82  73  86  56  35\n",
      "  51  22  69  32  37  29  65  47   5  97  26  48  62 112 102  93  57  88\n",
      "  42  75  89   4  30 119  87  31 108  38   6  24  95 109  54  98  41  58\n",
      "  66  53  99  92 115  77 125   3  40 114  10  61  21  68 124  94 127  44\n",
      "  18]  :\n",
      "Całkowita odległość:  607654.7430678912\n",
      "Rozwiązanie końcowe:  [ 70  68  73  74  77  18  21  17  20  14  41  37  16  90 116  60  61  91\n",
      "  62  59 119  63 102 101  83  80  27  26  38  25  33 122  28  42  39  79\n",
      "  78  84  81 126  82 117  31  30  34  43  40  48 118  46  49  53  47  55\n",
      " 104  86  85 110  67   8  19  23  24 114   7 105 106   6   9  11   3  10\n",
      " 120  12  32  29  36  35  51  57  54  45  93 127 107 111 112  94 121  22\n",
      "  76  75  69  96  88  87 109  71  72   4 108  15   1  50   5  56  52 124\n",
      "  66 113  65  99  92  89 125  64  58 100 115  13   2  44 103  95 123  97\n",
      "  98]  :\n",
      "Całkowita odległość:  168606.4256010786\n"
     ]
    },
    {
     "data": {
      "image/png": "[encoded data removed]",
      "text/plain": [
       "<Figure size 640x480 with 1 Axes>"
      ]
     },
     "metadata": {},
     "output_type": "display_data"
    }
   ],
   "source": [
    "print(\"Wygenerowane rozwiązanie: \", rozwiazanie +1, \" :\")\n",
    "print(\"Całkowita odległość: \", odleglosc)\n",
    "lista_odleglosci = []\n",
    "for x in range(iteracje_algorytmu):\n",
    "    nowe_rozwiazanie, nowa_odleglosc, nowy_rekord_tabu = znajdz_sasiada(rozwiazanie, odleglosc)\n",
    "    for iy, ix in np.ndindex(lista_tabu.shape):\n",
    "        if lista_tabu[iy, ix] > 0:\n",
    "            lista_tabu[iy, ix] -= 1\n",
    "    lista_tabu[nowy_rekord_tabu[0],nowy_rekord_tabu[1]] = czas_przebywania_na_liscie_tabu\n",
    "    if nowa_odleglosc < odleglosc:\n",
    "            rozwiazanie = nowe_rozwiazanie\n",
    "            odleglosc = nowa_odleglosc\n",
    "    lista_odleglosci = np.append(lista_odleglosci, odleglosc)\n",
    "    if np.count_nonzero(lista_tabu) == ilosc_rekordow_tabu:\n",
    "        break\n",
    "print(\"Rozwiązanie końcowe: \", rozwiazanie +1, \" :\")\n",
    "print(\"Całkowita odległość: \", odleglosc)\n",
    "plt.plot(lista_odleglosci)\n",
    "plt.xlabel(\"Iteracje algorytmu\")\n",
    "plt.ylabel(\"Odległość\")\n",
    "plt.show()"
   ]
  }
 ],
 "metadata": {
  "kernelspec": {
   "display_name": "Python 3 (ipykernel)",
   "language": "python",
   "name": "python3"
  },
  "language_info": {
   "codemirror_mode": {
    "name": "ipython",
    "version": 3
   },
   "file_extension": ".py",
   "mimetype": "text/x-python",
   "name": "python",
   "nbconvert_exporter": "python",
   "pygments_lexer": "ipython3",
   "version": "3.9.13"
  }
 },
 "nbformat": 4,
 "nbformat_minor": 5
}
