{
 "cells": [
  {
   "cell_type": "markdown",
   "metadata": {
    "collapsed": true,
    "pycharm": {
     "name": "#%% md\n"
    }
   },
   "source": [
    "Algorytm Wspinaczki HC\n",
    "Paweł Brodziak\n",
    "Magdalena Leśniak\n",
    "Marceli Ptak"
   ]
  },
  {
   "cell_type": "code",
   "execution_count": 1,
   "outputs": [],
   "source": [
    "import pandas as pd\n",
    "import numpy as np\n",
    "import matplotlib.pyplot as plt\n",
    "import plotly.express as px\n",
    "import random\n",
    "import time\n",
    "import warnings\n",
    "from enum import Enum\n",
    "warnings.simplefilter(action='ignore', category=FutureWarning)"
   ],
   "metadata": {
    "collapsed": false,
    "pycharm": {
     "name": "#%%\n"
    }
   }
  },
  {
   "cell_type": "code",
   "execution_count": 2,
   "outputs": [],
   "source": [
    "TSP_29 = pd.read_excel('TSP_29.xlsx')\n",
    "TSP_29.name = 'TSP_29'\n",
    "TSP_76 = pd.read_excel('TSP_76.xlsx')\n",
    "TSP_76.name = 'TSP_76'\n",
    "TSP_127 = pd.read_excel('TSP_127.xlsx')\n",
    "TSP_127.name = 'TSP_127'\n",
    "for df in [TSP_29, TSP_76, TSP_127]:\n",
    "    df.index = np.arange(1, len(df) + 1)"
   ],
   "metadata": {
    "collapsed": false,
    "pycharm": {
     "name": "#%%\n"
    }
   }
  },
  {
   "cell_type": "code",
   "execution_count": 3,
   "outputs": [],
   "source": [
    "class KryteriumStopu(Enum):\n",
    "    iteracje = 'maksymalna liczba iteracji'\n",
    "    max_bez_poprawy = 'maksymalna liczba iteracji bez poprawy'\n",
    "\n",
    "##Oblicz odleglości między miastami i całkowitą odległość dla zadanej kolejności\n",
    "def zmierz_odleglosci(miasta,df):\n",
    "    odleglosci = []\n",
    "    for i in range(len(miasta)-1):\n",
    "        x = df[miasta[i]].iloc[miasta[i+1]-1]\n",
    "        odleglosci.append(x)\n",
    "        i+=1\n",
    "    odleglosci.append(df[miasta[len(df)-1]].iloc[miasta[0]-1])\n",
    "    suma_odleglosci = sum(odleglosci)\n",
    "    return odleglosci, suma_odleglosci\n",
    "\n",
    "##\n",
    "def znajdz_sasiedztwo(miasta, suma_odleglosci,df):\n",
    "    ob_odleglosc = suma_odleglosci\n",
    "    nowe_miasta = miasta\n",
    "    for i in range(len(miasta)):\n",
    "        for j in range(i+1,len(miasta)):\n",
    "            if i == j :\n",
    "                continue;\n",
    "            temp = np.copy(miasta)\n",
    "            temp[i], temp[j] = temp[j], temp[i].copy()\n",
    "            temp_odleglosci, temp_odleglosc = zmierz_odleglosci(temp,df)\n",
    "            if temp_odleglosc < ob_odleglosc:\n",
    "                nowe_miasta = temp\n",
    "                ob_odleglosc = temp_odleglosc\n",
    "    return nowe_miasta\n",
    "\n",
    "def wspinaczka(df, kryterium_stopu:KryteriumStopu, max_iteracje=10000, max_iteracje_bez_poprawy=1000):\n",
    "    miasta = [i for i in range(1,len(df)+1)]\n",
    "    random.shuffle(miasta) ##losowa kolejność miast - wartość początkowa\n",
    "\n",
    "    odleglosci, suma_odleglosci = zmierz_odleglosci(miasta,df)\n",
    "    miasta_poczatkowe = miasta\n",
    "    wartosc_poczatkowa = suma_odleglosci\n",
    "\n",
    "    iteracje_bez_poprawy = 0\n",
    "    iteracje_z_poprawa = 0\n",
    "    iteracje = 0\n",
    "    climb = True\n",
    "\n",
    "    while climb == True:\n",
    "        miasta_alt = znajdz_sasiedztwo(miasta,suma_odleglosci,df)\n",
    "        odleglosci_alt, suma_odleglosci_alt = zmierz_odleglosci(miasta_alt,df)\n",
    "        if suma_odleglosci_alt < suma_odleglosci:\n",
    "            miasta = miasta_alt\n",
    "            odleglosci = odleglosci_alt\n",
    "            suma_odleglosci = suma_odleglosci_alt\n",
    "            iteracje_bez_poprawy = 0\n",
    "            iteracje_z_poprawa += 1\n",
    "        elif suma_odleglosci_alt == suma_odleglosci:\n",
    "            ## w przypadku takich samych wynikow, nowa kolejność wybierana jest losowo, lecz nie liczy się jako poprawa\n",
    "            if random.randint(0,1) == 1:\n",
    "                miasta = miasta_alt\n",
    "                odleglosci = odleglosci_alt\n",
    "                suma_odleglosci = suma_odleglosci_alt\n",
    "                iteracje_bez_poprawy +=1\n",
    "            else:\n",
    "                iteracje_bez_poprawy +=1\n",
    "        else:\n",
    "            iteracje_bez_poprawy +=1\n",
    "\n",
    "        iteracje += 1\n",
    "\n",
    "        if kryterium_stopu == KryteriumStopu.iteracje and iteracje == max_iteracje:\n",
    "            climb = False\n",
    "        if kryterium_stopu == KryteriumStopu.max_bez_poprawy and iteracje_bez_poprawy == max_iteracje_bez_poprawy:\n",
    "            climb = False\n",
    "\n",
    "    return miasta, odleglosci, suma_odleglosci, iteracje_z_poprawa, miasta_poczatkowe, wartosc_poczatkowa\n",
    "\n",
    "def wspinaczka_podsumowanie(df, kryterium_stopu:KryteriumStopu = KryteriumStopu.iteracje, max_iteracje=10000, max_iteracje_bez_poprawy=1000):\n",
    "    start_time = time.time()\n",
    "    miasta, odleglosci, suma_odleglosci, iteracje_poprawne, miasta_poczatkowe, wartosc_poczatkowa = wspinaczka(df, kryterium_stopu, max_iteracje,max_iteracje_bez_poprawy)\n",
    "    end_time = time.time()\n",
    "    execution_time = end_time - start_time\n",
    "    if kryterium_stopu == KryteriumStopu.iteracje:\n",
    "        iteracje = max_iteracje\n",
    "    else:\n",
    "        iteracje = max_iteracje_bez_poprawy\n",
    "    print(f'''\n",
    "    Kryterium stopu: {kryterium_stopu.value}\n",
    "    liczba iteracji: {iteracje}\n",
    "    liczba iteracji z poprawą: {iteracje_poprawne}\n",
    "    Czas obliczeń: {execution_time:.2f} sekund\n",
    "    wynik - suma odległości: {suma_odleglosci}\n",
    "    kolejność miast: {miasta}\n",
    "    Wartością początkową (odległością wylosowanych miast) była {wartosc_poczatkowa}\n",
    "    ''')"
   ],
   "metadata": {
    "collapsed": false,
    "pycharm": {
     "name": "#%%\n"
    }
   }
  },
  {
   "cell_type": "code",
   "execution_count": 4,
   "outputs": [
    {
     "name": "stdout",
     "output_type": "stream",
     "text": [
      "\n",
      "    Kryterium stopu: maksymalna liczba iteracji\n",
      "    liczba iteracji: 300\n",
      "    liczba iteracji z poprawą: 18\n",
      "    Czas obliczeń: 37.03 sekund\n",
      "    wynik - suma odległości: 2557\n",
      "    kolejność miast: [20  4 15 18 17 10 12  9  5 21 13 19 14 22 11 25  7 23  8 27 16 24  1 28\n",
      "  6 26 29  3  2]\n",
      "    Wartością początkową (odległością wylosowanych miast) była 5735\n",
      "    \n"
     ]
    }
   ],
   "source": [
    "## Algorytm wspinaczkowy dla danych TSP_29 z liczbą iteracji jako kryterium stopu i maksymalną liczbą iteracji 900000\n",
    "wspinaczka_podsumowanie(TSP_29,kryterium_stopu=KryteriumStopu.iteracje,max_iteracje=300)"
   ],
   "metadata": {
    "collapsed": false,
    "pycharm": {
     "name": "#%%\n"
    }
   }
  },
  {
   "cell_type": "code",
   "execution_count": 5,
   "outputs": [
    {
     "name": "stdout",
     "output_type": "stream",
     "text": [
      "\n",
      "    Kryterium stopu: maksymalna liczba iteracji bez poprawy\n",
      "    liczba iteracji: 50\n",
      "    liczba iteracji z poprawą: 25\n",
      "    Czas obliczeń: 7.71 sekund\n",
      "    wynik - suma odległości: 2376\n",
      "    kolejność miast: [ 7 25 19  2  3 29 26  9 12  6  1 24 16 13 10  4 15 11 22 14 17 18 20 21\n",
      "  5 28  8 27 23]\n",
      "    Wartością początkową (odległością wylosowanych miast) była 5487\n",
      "    \n"
     ]
    }
   ],
   "source": [
    "## Algorytm wspinaczkowy dla danych TSP_29 z liczbą iteracji bez poprawy jako kryterium stopu i maksymalną liczbą takich iteracji 100\n",
    "wspinaczka_podsumowanie(TSP_29,kryterium_stopu=KryteriumStopu.max_bez_poprawy,max_iteracje_bez_poprawy=50)"
   ],
   "metadata": {
    "collapsed": false,
    "pycharm": {
     "name": "#%%\n"
    }
   }
  },
  {
   "cell_type": "code",
   "execution_count": 6,
   "outputs": [
    {
     "name": "stdout",
     "output_type": "stream",
     "text": [
      "\n",
      "    Kryterium stopu: maksymalna liczba iteracji\n",
      "    liczba iteracji: 1000\n",
      "    liczba iteracji z poprawą: 133\n",
      "    Czas obliczeń: 10396.62 sekund\n",
      "    wynik - suma odległości: 174390.4119282115\n",
      "    kolejność miast: [109  96  88  87  86  85 104  92  89 125  59  19  21  17 105   7  50 121\n",
      "   5 124  52 115  13 120   8  67 119  63 126  76  77  18  74  70  69  75\n",
      "  81  84 117  78  20  15   1   2  51  57  56  47  49  53 118  46  48  33\n",
      " 122  28  45  94 112 111 107 127  93 103  44  35  11   9 116  90   3  10\n",
      " 114 106   6  24 108  12  14  41  43  34  39  30  31  79  80  82  83 102\n",
      " 101  98  97 123  95  54  55  66  65  99 113  64  58   4  22  23  60  62\n",
      "  61  91 100  16  37  36  40  42  38  25  29  32  26  27  72  73  68  71\n",
      " 110]\n",
      "    Wartością początkową (odległością wylosowanych miast) była 616053.9284768786\n",
      "    \n"
     ]
    }
   ],
   "source": [
    "## Algorytm wspinaczkowy dla danych TSP_127 z liczbą iteracji jako kryterium stopu i maksymalną liczbą iteracji wynoszącą milion\n",
    "wspinaczka_podsumowanie(TSP_127,kryterium_stopu=KryteriumStopu.iteracje,max_iteracje=500)"
   ],
   "metadata": {
    "collapsed": false,
    "pycharm": {
     "name": "#%%\n"
    }
   }
  },
  {
   "cell_type": "code",
   "execution_count": 7,
   "outputs": [
    {
     "name": "stdout",
     "output_type": "stream",
     "text": [
      "\n",
      "Po 100 powtórzeniach algorytmu iteracyjnego, najniższą zarejestrowaną odległością było 2144\n",
      "Wynik był najlepszy dla poniższej kolejności miast\n",
      "[ 9  5 26 29  3  2 21  1  8 27 23  7 25 16 19 11 15 18 17 22 14  4 20 10\n",
      " 13 24 28  6 12]\n",
      "\n",
      "Średnio, podczas uruchomień algorytmu średnia odległość wynosiła 2480.53\n",
      "Średni czas w jakim wykonywało się każde uruchomienie wszystkich iteracji wyniósł 3.216 sekund.\n",
      "Wszystkie algorytmy obliczone zostały w 321.604 sekund (5.36 minut).\n"
     ]
    }
   ],
   "source": [
    "## Uruchomienie algorytmu wspinaczkowego z 100k iteracjami n razy w celu sprawdzenia średniego i najniższego wyniku a także średniego czasu w jakim dokonywane są obliczenia\n",
    "i = 0\n",
    "n = 100 ## liczba powtórzeń algorytmu - za każdym razem losowane jest nowe ustawienie początkowe\n",
    "wszystkie_odleglosci = 0\n",
    "czas_calkowity = 0\n",
    "min_odleglosc = 999999\n",
    "min_miasta = []\n",
    "start_time_whole = time.time()\n",
    "while i < n:\n",
    "    start_time = time.time()\n",
    "    miasta, odleglosci, suma_odleglosci, it_z_pop, miasta_poczatkowe, wartosc_poczatkowa = wspinaczka(TSP_29,kryterium_stopu=KryteriumStopu.max_bez_poprawy,max_iteracje_bez_poprawy=10)\n",
    "    end_time = time.time()\n",
    "    execution_time = end_time - start_time\n",
    "    wszystkie_odleglosci += suma_odleglosci\n",
    "    czas_calkowity += execution_time\n",
    "    if suma_odleglosci < min_odleglosc:\n",
    "        min_miasta = miasta\n",
    "        min_odleglosc = suma_odleglosci\n",
    "    else:\n",
    "        pass\n",
    "    i += 1\n",
    "\n",
    "srednia_odleglosc = wszystkie_odleglosci / n\n",
    "sredni_czas = czas_calkowity / n\n",
    "end_time_whole = time.time()\n",
    "overall_time = end_time_whole - start_time_whole\n",
    "print(f'''\n",
    "Po {n} powtórzeniach algorytmu iteracyjnego, najniższą zarejestrowaną odległością było {min_odleglosc}\n",
    "Wynik był najlepszy dla poniższej kolejności miast\n",
    "{min_miasta}\n",
    "\n",
    "Średnio, podczas uruchomień algorytmu średnia odległość wynosiła {srednia_odleglosc}\n",
    "Średni czas w jakim wykonywało się każde uruchomienie wszystkich iteracji wyniósł {sredni_czas:.3f} sekund.\n",
    "Wszystkie algorytmy obliczone zostały w {overall_time:.3f} sekund ({overall_time / 60:.2f} minut).''')"
   ],
   "metadata": {
    "collapsed": false,
    "pycharm": {
     "name": "#%%\n"
    }
   }
  }
 ],
 "metadata": {
  "kernelspec": {
   "display_name": "Python 3",
   "language": "python",
   "name": "python3"
  },
  "language_info": {
   "codemirror_mode": {
    "name": "ipython",
    "version": 2
   },
   "file_extension": ".py",
   "mimetype": "text/x-python",
   "name": "python",
   "nbconvert_exporter": "python",
   "pygments_lexer": "ipython2",
   "version": "2.7.6"
  }
 },
 "nbformat": 4,
 "nbformat_minor": 0
}